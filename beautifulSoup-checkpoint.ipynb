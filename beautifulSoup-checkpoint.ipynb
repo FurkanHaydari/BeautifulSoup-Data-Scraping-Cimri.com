{
 "cells": [
  {
   "cell_type": "code",
   "execution_count": 1,
   "id": "15f1c8b4",
   "metadata": {},
   "outputs": [],
   "source": [
    "from bs4 import BeautifulSoup\n",
    "import requests\n",
    "import pandas as pd\n",
    "import time"
   ]
  },
  {
   "cell_type": "code",
   "execution_count": null,
   "id": "2713a96f",
   "metadata": {},
   "outputs": [],
   "source": [
    "liste=[]\n",
    "\n",
    "\n",
    "a=1\n",
    "while a<=3:\n",
    "    try:\n",
    "        r = requests.get(\"https://www.cimri.com/cep-telefonu?page=\"+str(a))\n",
    "        soup = BeautifulSoup(r.content,\"lxml\")\n",
    "\n",
    "        st1 = soup.find(\"div\",attrs={\"class\":\"s1cegxbo-1 cACjAF\"})\n",
    "        st2 = st1.find_all(\"div\",attrs={\"class\":\"z7ntrt-0 cLlfW s1a29zcm-11 ggOMjb\"})\n",
    "    except:\n",
    "        a=a+1\n",
    "        continue\n",
    "    for detaylar in st2:\n",
    "        try:\n",
    "            link_sonu= detaylar.a.get(\"href\")\n",
    "            link_bası= \"https://www.cimri.com\"\n",
    "            link= link_bası + link_sonu + \"?page=\" + str(a)+\"\"\n",
    "            r1= requests.get(link)\n",
    "            soup1 = BeautifulSoup(r1.content,\"lxml\")\n",
    "            soup2 = soup1.find(\"div\",attrs={\"class\":\"s1wytv2f-1 FzQtN\"})\n",
    "       \n",
    "            en_ucuz = soup2.find(\"span\",attrs={\"class\":\"s1wl91l5-4 cBVHJG\"}).text\n",
    "        \n",
    "            magaza = soup2.find(\"span\",attrs={\"class\":\"s1wl91l5-2 dWTGzr\"}).text.replace('.com','').replace('.tr','')\n",
    "        \n",
    "            site = soup2.a.get(\"href\")\n",
    "      \n",
    "            soup3=soup1.find(\"div\",attrs={\"class\":\"s1wytv2f-0 bpjMIm\"})\n",
    "            model=soup3.find(\"h1\",attrs={\"class\":\"s1wytv2f-2 jTAVuj\"}).text\n",
    "            \n",
    "            liste.append([model,en_ucuz,magaza,site])\n",
    "            \n",
    "            \n",
    "        except:\n",
    "            a=a+1\n",
    "            continue\n",
    "        \n",
    "    print(\"sayfa bitti\")\n",
    "    a=a+1\n",
    "    "
   ]
  },
  {
   "cell_type": "code",
   "execution_count": null,
   "id": "dc8fec1b",
   "metadata": {},
   "outputs": [],
   "source": [
    "df = pd.DataFrame(liste)\n",
    "df.columns=[\"Marka ve Model\",\"En Ucuz Fiyat\",\"En Ucuz Mağaza\", \"Link\"]"
   ]
  },
  {
   "cell_type": "code",
   "execution_count": null,
   "id": "a34f2651",
   "metadata": {},
   "outputs": [],
   "source": [
    "df"
   ]
  },
  {
   "cell_type": "code",
   "execution_count": 377,
   "id": "e7f043e7",
   "metadata": {},
   "outputs": [],
   "source": [
    "df.to_excel(\"en_ucuz_telefonlar_6_sayfa.xlsx\")"
   ]
  },
  {
   "cell_type": "code",
   "execution_count": 6,
   "id": "1c264347",
   "metadata": {},
   "outputs": [
    {
     "ename": "TypeError",
     "evalue": "can only concatenate str (not \"int\") to str",
     "output_type": "error",
     "traceback": [
      "\u001b[1;31m---------------------------------------------------------------------------\u001b[0m",
      "\u001b[1;31mTypeError\u001b[0m                                 Traceback (most recent call last)",
      "\u001b[1;32m<ipython-input-6-368b301fee0e>\u001b[0m in \u001b[0;36m<module>\u001b[1;34m\u001b[0m\n\u001b[1;32m----> 1\u001b[1;33m \u001b[0mprint\u001b[0m\u001b[1;33m(\u001b[0m\u001b[1;34m\"sayfa\"\u001b[0m \u001b[1;33m+\u001b[0m \u001b[0ma\u001b[0m\u001b[1;33m)\u001b[0m\u001b[1;33m\u001b[0m\u001b[1;33m\u001b[0m\u001b[0m\n\u001b[0m",
      "\u001b[1;31mTypeError\u001b[0m: can only concatenate str (not \"int\") to str"
     ]
    }
   ],
   "source": []
  },
  {
   "cell_type": "code",
   "execution_count": 1,
   "id": "01c90c3e",
   "metadata": {},
   "outputs": [],
   "source": []
  },
  {
   "cell_type": "code",
   "execution_count": null,
   "id": "b4fbe91b",
   "metadata": {},
   "outputs": [],
   "source": []
  }
 ],
 "metadata": {
  "kernelspec": {
   "display_name": "Python 3",
   "language": "python",
   "name": "python3"
  },
  "language_info": {
   "codemirror_mode": {
    "name": "ipython",
    "version": 3
   },
   "file_extension": ".py",
   "mimetype": "text/x-python",
   "name": "python",
   "nbconvert_exporter": "python",
   "pygments_lexer": "ipython3",
   "version": "3.8.8"
  }
 },
 "nbformat": 4,
 "nbformat_minor": 5
}
